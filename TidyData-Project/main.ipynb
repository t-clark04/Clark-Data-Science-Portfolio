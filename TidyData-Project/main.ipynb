{
 "cells": [
  {
   "cell_type": "markdown",
   "metadata": {},
   "source": [
    "# Portfolio Update #2: Data Cleaning and Visualization\n",
    "\n",
    "In this \"tidy data\" project, I will be loading in a messy dataset on the 2008 Olympic medalists and doing some cleaning and basic exploratory data analysis (EDA) on it. To run all of the code for yourself, make sure to download the \"TidyData-Project\" folder from my data science portfolio on GitHub (https://github.com/t-clark04/Clark-Data-Science-Portfolio/tree/main). The Olympic medalist data will be contained within the \"data\" folder, and all other packages and dependencies will be explained and loaded in along the way. Thank you for checking out my project!"
   ]
  },
  {
   "cell_type": "markdown",
   "metadata": {},
   "source": [
    "First things first, we need to load in the .csv file, convert it to a pandas DataFrame, and take a look at the first few rows of data to get of sense of what we're dealing with."
   ]
  },
  {
   "cell_type": "code",
   "execution_count": null,
   "metadata": {},
   "outputs": [],
   "source": [
    "# Importing pandas so that we can create a pandas DataFrame from our .csv file\n",
    "import pandas\n",
    "\n",
    "# "
   ]
  }
 ],
 "metadata": {
  "language_info": {
   "name": "python"
  }
 },
 "nbformat": 4,
 "nbformat_minor": 2
}
